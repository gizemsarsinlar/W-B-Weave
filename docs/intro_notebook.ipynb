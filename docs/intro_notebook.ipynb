{
  "cells": [
    {
      "cell_type": "markdown",
      "id": "298501c0",
      "metadata": {
        "id": "298501c0"
      },
      "source": [
        "<!-- docusaurus_head_meta::start\n",
        "---\n",
        "title: Introduction Notebook\n",
        "---\n",
        "docusaurus_head_meta::end -->\n",
        "\n",
        "<!--- @wandbcode{intro-colab} -->"
      ]
    },
    {
      "cell_type": "markdown",
      "id": "974b2c96",
      "metadata": {
        "id": "974b2c96"
      },
      "source": [
        "# 🏃‍♀️ Quickstart\n",
        "\n",
        "Get started using Weave to:\n",
        "- Log and debug language model inputs, outputs, and traces\n",
        "- Build rigorous, apples-to-apples evaluations for language model use cases\n",
        "- Organize all the information generated across the LLM workflow, from experimentation to evaluations to production\n",
        "\n",
        "See the full Weave documentation [here](https://wandb.me/weave).\n"
      ]
    },
    {
      "cell_type": "markdown",
      "id": "56dc5c9d",
      "metadata": {
        "id": "56dc5c9d"
      },
      "source": [
        "## 🪄 Install `weave` library and login\n",
        "\n",
        "\n",
        "Start by installing the library and logging in to your account.\n",
        "\n",
        "In this example, we're using openai so you should [add an openai API key](https://platform.openai.com/docs/quickstart/step-2-setup-your-api-key).\n"
      ]
    },
    {
      "cell_type": "code",
      "execution_count": 1,
      "id": "61a6d209",
      "metadata": {
        "id": "61a6d209"
      },
      "outputs": [],
      "source": [
        "%%capture\n",
        "!pip install weave openai set-env-colab-kaggle-dotenv"
      ]
    },
    {
      "cell_type": "code",
      "execution_count": 2,
      "id": "5e188ab8",
      "metadata": {
        "id": "5e188ab8"
      },
      "outputs": [],
      "source": [
        "%%capture\n",
        "# Temporary workaround to fix bug in openai:\n",
        "# TypeError: Client.__init__() got an unexpected keyword argument 'proxies'\n",
        "# See https://community.openai.com/t/error-with-openai-1-56-0-client-init-got-an-unexpected-keyword-argument-proxies/1040332/15\n",
        "!pip install \"httpx<0.28\""
      ]
    },
    {
      "cell_type": "code",
      "execution_count": 4,
      "id": "0921bbef-d089-4960-b624-505172f90d76",
      "metadata": {
        "id": "0921bbef-d089-4960-b624-505172f90d76"
      },
      "outputs": [],
      "source": [
        "# Set your OpenAI API key\n",
        "from set_env import set_env\n",
        "\n",
        "# Put your OPENAI_API_KEY in the secrets panel to the left 🗝️\n",
        "_ = set_env(\"OPENAI_API_KEY\")\n",
        "# os.environ[\"OPENAI_API_KEY\"] = \"sk-...\" # alternatively, put your key here\n",
        "\n",
        "PROJECT = \"weave-intro-notebook\""
      ]
    },
    {
      "cell_type": "markdown",
      "id": "09467a33",
      "metadata": {
        "id": "09467a33"
      },
      "source": [
        "# Track inputs & outputs of functions\n",
        "\n",
        "Weave allows users to track function calls: the code, inputs, outputs, and even LLM tokens & costs! In the following sections we will cover:\n",
        "\n",
        "* Custom Functions\n",
        "* Vendor Integrations\n",
        "* Nested Function Calling\n",
        "* Error Tracking\n",
        "\n",
        "Note: in all cases, we will:\n",
        "\n",
        "```python\n",
        "import weave                    # import the weave library\n",
        "weave.init('project-name')      # initialize tracking for a specific W&B project\n",
        "```"
      ]
    },
    {
      "cell_type": "markdown",
      "id": "99453d48",
      "metadata": {
        "id": "99453d48"
      },
      "source": [
        "## Track custom functions\n",
        "\n",
        "Add the @weave.op decorator to the functions you want to track"
      ]
    },
    {
      "cell_type": "markdown",
      "id": "32c013bc",
      "metadata": {
        "id": "32c013bc"
      },
      "source": [
        "![](https://github.com/wandb/weave/blob/media/intro/1.png?raw=1)"
      ]
    },
    {
      "cell_type": "code",
      "execution_count": 6,
      "id": "cdcd1bb7",
      "metadata": {
        "colab": {
          "base_uri": "https://localhost:8080/"
        },
        "id": "cdcd1bb7",
        "outputId": "16bbdfae-cafd-4ceb-fe2d-e465f607091d"
      },
      "outputs": [
        {
          "output_type": "stream",
          "name": "stdout",
          "text": [
            "🍩 https://wandb.ai/gizem-18srsnlr-martur-fompak/weave-intro-notebook/r/call/01958f3b-0981-7733-9317-81c62dedbb9e\n",
            "That was so easy; it was a piece of cake!\n"
          ]
        }
      ],
      "source": [
        "from openai import OpenAI\n",
        "\n",
        "import weave\n",
        "\n",
        "weave.init(PROJECT)\n",
        "\n",
        "client = OpenAI()\n",
        "response = client.chat.completions.create(\n",
        "    model=\"gpt-4o-mini\",\n",
        "    messages=[\n",
        "        {\n",
        "            \"role\": \"system\",\n",
        "            \"content\": \"You are a grammar checker, correct the following user input.\",\n",
        "        },\n",
        "        {\"role\": \"user\", \"content\": \"That was so easy, it was a piece of pie!\"},\n",
        "    ],\n",
        "    temperature=0,\n",
        ")\n",
        "generation = response.choices[0].message.content\n",
        "print(generation)"
      ]
    },
    {
      "cell_type": "markdown",
      "id": "174cabef",
      "metadata": {
        "id": "174cabef"
      },
      "source": [
        "You can find your interactive dashboard by clicking any of the  👆 wandb links above."
      ]
    },
    {
      "cell_type": "markdown",
      "id": "5ef6f27b",
      "metadata": {
        "id": "5ef6f27b"
      },
      "source": [
        "## Vendor Integrations (OpenAI, Anthropic, Mistral, etc...)\n",
        "\n",
        "Here, we're automatically tracking all calls to `openai`. We automatically track a lot of LLM libraries, but it's really easy to add support for whatever LLM you're using, as you'll see below."
      ]
    },
    {
      "cell_type": "markdown",
      "id": "4dc2d909",
      "metadata": {
        "id": "4dc2d909"
      },
      "source": [
        "![](https://github.com/wandb/weave/blob/media/intro/2.png?raw=1)"
      ]
    },
    {
      "cell_type": "code",
      "execution_count": 7,
      "id": "ac8a2b59",
      "metadata": {
        "colab": {
          "base_uri": "https://localhost:8080/"
        },
        "id": "ac8a2b59",
        "outputId": "789a7023-3c31-4eea-f969-5d69aa8057f0"
      },
      "outputs": [
        {
          "output_type": "stream",
          "name": "stdout",
          "text": [
            "hello\n"
          ]
        }
      ],
      "source": [
        "import weave\n",
        "\n",
        "weave.init(PROJECT)\n",
        "\n",
        "\n",
        "@weave.op()\n",
        "def strip_user_input(user_input):\n",
        "    return user_input.strip()\n",
        "\n",
        "\n",
        "result = strip_user_input(\"    hello    \")\n",
        "print(result)"
      ]
    },
    {
      "cell_type": "markdown",
      "id": "1ed90e37",
      "metadata": {
        "id": "1ed90e37"
      },
      "source": [
        "After adding `weave.op` and calling the function, visit the link and see it tracked within your project.\n",
        "\n",
        "💡 We automatically track your code, have a look at the code tab!"
      ]
    },
    {
      "cell_type": "markdown",
      "id": "35fe43dc",
      "metadata": {
        "id": "35fe43dc"
      },
      "source": [
        "## Track nested functions\n",
        "\n",
        "Now that you've seen the basics, let's combine all of the above and track some deeply nested functions alongside LLM calls.\n",
        "\n"
      ]
    },
    {
      "cell_type": "markdown",
      "id": "12213633",
      "metadata": {
        "id": "12213633"
      },
      "source": [
        "![](https://github.com/wandb/weave/blob/media/intro/3.png?raw=1)"
      ]
    },
    {
      "cell_type": "code",
      "execution_count": 8,
      "id": "422050d0",
      "metadata": {
        "colab": {
          "base_uri": "https://localhost:8080/"
        },
        "id": "422050d0",
        "outputId": "a17c39ba-e30b-41f6-cbf3-e64293665155"
      },
      "outputs": [
        {
          "output_type": "stream",
          "name": "stdout",
          "text": [
            "🍩 https://wandb.ai/gizem-18srsnlr-martur-fompak/weave-intro-notebook/r/call/01958f3b-7c02-79f2-91b1-2b6940426d6b\n",
            "That was so easy; it was a piece of cake!\n"
          ]
        }
      ],
      "source": [
        "from openai import OpenAI\n",
        "\n",
        "import weave\n",
        "\n",
        "weave.init(PROJECT)\n",
        "\n",
        "\n",
        "@weave.op()\n",
        "def strip_user_input(user_input):\n",
        "    return user_input.strip()\n",
        "\n",
        "\n",
        "@weave.op()\n",
        "def correct_grammar(user_input):\n",
        "    client = OpenAI()\n",
        "\n",
        "    stripped = strip_user_input(user_input)\n",
        "    response = client.chat.completions.create(\n",
        "        model=\"gpt-4o-mini\",\n",
        "        messages=[\n",
        "            {\n",
        "                \"role\": \"system\",\n",
        "                \"content\": \"You are a grammar checker, correct the following user input.\",\n",
        "            },\n",
        "            {\"role\": \"user\", \"content\": stripped},\n",
        "        ],\n",
        "        temperature=0,\n",
        "    )\n",
        "    return response.choices[0].message.content\n",
        "\n",
        "\n",
        "result = correct_grammar(\"   That was so easy, it was a piece of pie!    \")\n",
        "print(result)"
      ]
    },
    {
      "cell_type": "markdown",
      "id": "6f483413",
      "metadata": {
        "id": "6f483413"
      },
      "source": [
        "## Track Errors\n",
        "\n",
        "Whenever your code crashes, weave will highlight what caused the issue. This is especially useful for finding things like JSON parsing issues that can occasionally happen when parsing data from LLM responses."
      ]
    },
    {
      "cell_type": "code",
      "source": [
        "from openai import OpenAI\n",
        "import json\n",
        "import weave\n",
        "\n",
        "weave.init(PROJECT)\n",
        "\n",
        "\n",
        "@weave.op()\n",
        "def strip_user_input(user_input):\n",
        "    return user_input.strip()\n",
        "\n",
        "\n",
        "@weave.op()\n",
        "def correct_grammar(user_input):\n",
        "    client = OpenAI()\n",
        "\n",
        "    stripped = strip_user_input(user_input)\n",
        "    response = client.chat.completions.create(\n",
        "        model=\"gpt-4o-mini\",\n",
        "        messages=[\n",
        "            {\n",
        "                \"role\": \"system\",\n",
        "                \"content\": \"You are a grammar checker, correct the following user input. Respond in JSON format with a 'correction' field like so: {'correction': 'The corrected sentence.'}\", # Instruct model to respond with JSON with the specific field.\n",
        "            },\n",
        "            {\"role\": \"user\", \"content\": stripped},\n",
        "        ],\n",
        "        temperature=0,\n",
        "        response_format={\"type\": \"json_object\"},\n",
        "    )\n",
        "    # Access the correction field from the JSON response, handling potential KeyError\n",
        "    content = json.loads(response.choices[0].message.content)\n",
        "\n",
        "    # Check if 'correction' key exists and return its value, otherwise return the original content\n",
        "    return content.get('correction', response.choices[0].message.content)\n",
        "\n",
        "\n",
        "result = correct_grammar(\"   That was so easy, it was a piece of pie!    \")\n",
        "print(result)"
      ],
      "metadata": {
        "id": "uDfB9ScvP9fj",
        "outputId": "bfd12940-9db1-446f-b1b2-9e2f0beb366f",
        "colab": {
          "base_uri": "https://localhost:8080/"
        }
      },
      "id": "uDfB9ScvP9fj",
      "execution_count": 12,
      "outputs": [
        {
          "output_type": "stream",
          "name": "stdout",
          "text": [
            "🍩 https://wandb.ai/gizem-18srsnlr-martur-fompak/weave-intro-notebook/r/call/01958f41-18a5-72b2-9077-90ebfe93703d\n",
            "That was so easy; it was a piece of cake!\n"
          ]
        }
      ]
    },
    {
      "cell_type": "markdown",
      "id": "768cdd2f",
      "metadata": {
        "id": "768cdd2f"
      },
      "source": [
        "![](https://github.com/wandb/weave/blob/media/intro/4.png?raw=1)"
      ]
    },
    {
      "cell_type": "markdown",
      "id": "f957c9c8",
      "metadata": {
        "id": "f957c9c8"
      },
      "source": [
        "# Tracking Objects\n",
        "\n",
        "Organizing experimentation is difficult when there are many moving pieces. You can capture and organize the experimental details of your app like your system prompt or the model you're using within `weave.Objects`. This helps organize and compare different iterations of your app. In this section, we will cover:\n",
        "\n",
        "* General Object Tracking\n",
        "* Tracking Models\n",
        "* Tracking Datasets"
      ]
    },
    {
      "cell_type": "markdown",
      "id": "8f6129cc",
      "metadata": {
        "id": "8f6129cc"
      },
      "source": [
        "## General Object Tracking\n",
        "\n",
        "Many times, it is useful to track & version data, just like you track and version code. For example, here we define a `SystemPrompt(weave.Object)` object that can be shared between teammates"
      ]
    },
    {
      "cell_type": "markdown",
      "id": "95017cd1",
      "metadata": {
        "id": "95017cd1"
      },
      "source": [
        "![](https://github.com/wandb/weave/blob/media/intro/5.png?raw=1)"
      ]
    },
    {
      "cell_type": "code",
      "execution_count": 13,
      "id": "08e4e852",
      "metadata": {
        "colab": {
          "base_uri": "https://localhost:8080/"
        },
        "id": "08e4e852",
        "outputId": "7c4f03f7-5a0b-49b7-e03e-cb3ebd76b723"
      },
      "outputs": [
        {
          "output_type": "stream",
          "name": "stdout",
          "text": [
            "📦 Published to https://wandb.ai/gizem-18srsnlr-martur-fompak/weave-intro-notebook/weave/objects/SystemPrompt/versions/HkHZ1fgB6eUGtxHCLvr91YvPLSpxDTCNx6xRIXibr2Y\n"
          ]
        },
        {
          "output_type": "execute_result",
          "data": {
            "text/plain": [
              "ObjectRef(entity='gizem-18srsnlr-martur-fompak', project='weave-intro-notebook', name='SystemPrompt', _digest='HkHZ1fgB6eUGtxHCLvr91YvPLSpxDTCNx6xRIXibr2Y', _extra=())"
            ]
          },
          "metadata": {},
          "execution_count": 13
        }
      ],
      "source": [
        "import weave\n",
        "\n",
        "weave.init(PROJECT)\n",
        "\n",
        "\n",
        "class SystemPrompt(weave.Object):\n",
        "    prompt: str\n",
        "\n",
        "\n",
        "system_prompt = SystemPrompt(\n",
        "    prompt=\"You are a grammar checker, correct the following user input.\"\n",
        ")\n",
        "weave.publish(system_prompt)"
      ]
    },
    {
      "cell_type": "markdown",
      "id": "0c873438",
      "metadata": {
        "id": "0c873438"
      },
      "source": [
        "## Model Tracking\n",
        "\n",
        "Models are so common of an object type, that we have a special class to represent them: `weave.Model`. The only requirement is that we define a `predict` method."
      ]
    },
    {
      "cell_type": "markdown",
      "id": "7feb0667",
      "metadata": {
        "id": "7feb0667"
      },
      "source": [
        "![](https://github.com/wandb/weave/blob/media/intro/6.png?raw=1)"
      ]
    },
    {
      "cell_type": "code",
      "execution_count": 14,
      "id": "e3e60d81",
      "metadata": {
        "colab": {
          "base_uri": "https://localhost:8080/"
        },
        "id": "e3e60d81",
        "outputId": "523f382f-8e1f-47e0-ec4e-d2c407976063"
      },
      "outputs": [
        {
          "output_type": "stream",
          "name": "stdout",
          "text": [
            "That was so easy; it was a piece of cake!\n"
          ]
        }
      ],
      "source": [
        "from openai import OpenAI\n",
        "\n",
        "import weave\n",
        "\n",
        "weave.init(PROJECT)\n",
        "\n",
        "\n",
        "class OpenAIGrammarCorrector(weave.Model):\n",
        "    # Properties are entirely user-defined\n",
        "    openai_model_name: str\n",
        "    system_message: str\n",
        "\n",
        "    @weave.op()\n",
        "    def predict(self, user_input):\n",
        "        client = OpenAI()\n",
        "        response = client.chat.completions.create(\n",
        "            model=self.openai_model_name,\n",
        "            messages=[\n",
        "                {\"role\": \"system\", \"content\": self.system_message},\n",
        "                {\"role\": \"user\", \"content\": user_input},\n",
        "            ],\n",
        "            temperature=0,\n",
        "        )\n",
        "        return response.choices[0].message.content\n",
        "\n",
        "\n",
        "corrector = OpenAIGrammarCorrector(\n",
        "    openai_model_name=\"gpt-4o-mini\",\n",
        "    system_message=\"You are a grammar checker, correct the following user input.\",\n",
        ")\n",
        "\n",
        "result = corrector.predict(\"     That was so easy, it was a piece of pie!       \")\n",
        "print(result)"
      ]
    },
    {
      "cell_type": "markdown",
      "id": "624b04c1",
      "metadata": {
        "id": "624b04c1"
      },
      "source": [
        "## Dataset Tracking\n",
        "\n",
        "Similar to models, a `weave.Dataset` object exists to help track, organize, and operate on datasets"
      ]
    },
    {
      "cell_type": "markdown",
      "id": "5384d6c3",
      "metadata": {
        "id": "5384d6c3"
      },
      "source": [
        "![](https://github.com/wandb/weave/blob/media/intro/7.png?raw=1)"
      ]
    },
    {
      "cell_type": "code",
      "execution_count": 15,
      "id": "ac2c5145",
      "metadata": {
        "colab": {
          "base_uri": "https://localhost:8080/"
        },
        "id": "ac2c5145",
        "outputId": "419df129-7189-4e44-88ec-80543d37ccf7"
      },
      "outputs": [
        {
          "output_type": "stream",
          "name": "stdout",
          "text": [
            "📦 Published to https://wandb.ai/gizem-18srsnlr-martur-fompak/weave-intro-notebook/weave/objects/grammar-correction/versions/fu5I3h3QWY1vX0DkATU0O1Wc1NKB8HHy2AIF9ci6zMo\n"
          ]
        },
        {
          "output_type": "execute_result",
          "data": {
            "text/plain": [
              "ObjectRef(entity='gizem-18srsnlr-martur-fompak', project='weave-intro-notebook', name='grammar-correction', _digest='fu5I3h3QWY1vX0DkATU0O1Wc1NKB8HHy2AIF9ci6zMo', _extra=())"
            ]
          },
          "metadata": {},
          "execution_count": 15
        }
      ],
      "source": [
        "dataset = weave.Dataset(\n",
        "    name=\"grammar-correction\",\n",
        "    rows=[\n",
        "        {\n",
        "            \"user_input\": \"   That was so easy, it was a piece of pie!   \",\n",
        "            \"expected\": \"That was so easy, it was a piece of cake!\",\n",
        "        },\n",
        "        {\"user_input\": \"  I write good   \", \"expected\": \"I write well\"},\n",
        "        {\n",
        "            \"user_input\": \"  GPT-4 is smartest AI model.   \",\n",
        "            \"expected\": \"GPT-4 is the smartest AI model.\",\n",
        "        },\n",
        "    ],\n",
        ")\n",
        "\n",
        "weave.publish(dataset)"
      ]
    },
    {
      "cell_type": "markdown",
      "id": "f7d43bc3",
      "metadata": {
        "id": "f7d43bc3"
      },
      "source": [
        "Notice that we saved a versioned `GrammarCorrector` object that captures the configurations you're experimenting with."
      ]
    },
    {
      "cell_type": "markdown",
      "id": "71c3aaea",
      "metadata": {
        "id": "71c3aaea"
      },
      "source": [
        "## Retrieve Published Objects & Ops\n",
        "\n",
        "You can publish objects and then retrieve them in your code. You can even call functions from your retrieved objects!"
      ]
    },
    {
      "cell_type": "markdown",
      "id": "a9bf0233",
      "metadata": {
        "id": "a9bf0233"
      },
      "source": [
        "![](https://github.com/wandb/weave/blob/media/intro/8.png?raw=1)"
      ]
    },
    {
      "cell_type": "code",
      "execution_count": 16,
      "id": "caa5c5e0",
      "metadata": {
        "colab": {
          "base_uri": "https://localhost:8080/"
        },
        "id": "caa5c5e0",
        "outputId": "aa336dec-434c-4fc6-bae0-937af123ef29"
      },
      "outputs": [
        {
          "output_type": "stream",
          "name": "stdout",
          "text": [
            "📦 Published to https://wandb.ai/gizem-18srsnlr-martur-fompak/weave-intro-notebook/weave/objects/OpenAIGrammarCorrector/versions/MVLkQHxV12xqqubKKCEN1zSW5hrWeX7LAtXcERg4ufg\n",
            "weave:///gizem-18srsnlr-martur-fompak/weave-intro-notebook/object/OpenAIGrammarCorrector:MVLkQHxV12xqqubKKCEN1zSW5hrWeX7LAtXcERg4ufg\n"
          ]
        }
      ],
      "source": [
        "import weave\n",
        "\n",
        "weave.init(PROJECT)\n",
        "\n",
        "corrector = OpenAIGrammarCorrector(\n",
        "    openai_model_name=\"gpt-4o-mini\",\n",
        "    system_message=\"You are a grammar checker, correct the following user input.\",\n",
        ")\n",
        "\n",
        "ref = weave.publish(corrector)\n",
        "print(ref.uri())"
      ]
    },
    {
      "cell_type": "markdown",
      "id": "4e8ea290",
      "metadata": {
        "id": "4e8ea290"
      },
      "source": [
        "![](https://github.com/wandb/weave/blob/media/intro/9.png?raw=1)"
      ]
    },
    {
      "cell_type": "code",
      "execution_count": 17,
      "id": "9ff9cfe7",
      "metadata": {
        "colab": {
          "base_uri": "https://localhost:8080/"
        },
        "id": "9ff9cfe7",
        "outputId": "772b6388-38c1-4382-bc93-010aa5f91647"
      },
      "outputs": [
        {
          "output_type": "stream",
          "name": "stdout",
          "text": [
            "🍩 https://wandb.ai/gizem-18srsnlr-martur-fompak/weave-intro-notebook/r/call/01958f41-813e-7e11-aab0-1bb92b079a01\n",
            "That was so easy; it was a piece of cake!\n"
          ]
        }
      ],
      "source": [
        "import weave\n",
        "\n",
        "weave.init(PROJECT)\n",
        "\n",
        "# Note: this url is available from the UI after publishing the object!\n",
        "ref_url = f\"weave:///{ref.entity}/{PROJECT}/object/{ref.name}:{ref.digest}\"\n",
        "fetched_collector = weave.ref(ref_url).get()\n",
        "\n",
        "# Notice: this object was loaded from remote location!\n",
        "result = fetched_collector.predict(\"That was so easy, it was a piece of pie!\")\n",
        "\n",
        "print(result)"
      ]
    },
    {
      "cell_type": "markdown",
      "id": "77b94dd5",
      "metadata": {
        "id": "77b94dd5"
      },
      "source": [
        "# Evaluation\n",
        "\n",
        "Evaluation-driven development helps you reliably iterate on an application. The `Evaluation` class is designed to assess the performance of a `Model` on a given `Dataset` or set of examples using scoring functions.\n",
        "\n",
        "See a preview of the API below:"
      ]
    },
    {
      "cell_type": "markdown",
      "id": "72bdf072",
      "metadata": {
        "id": "72bdf072"
      },
      "source": [
        "![](https://github.com/wandb/weave/blob/media/intro/10.png?raw=1)"
      ]
    },
    {
      "cell_type": "code",
      "execution_count": 18,
      "id": "9c597f9a",
      "metadata": {
        "colab": {
          "base_uri": "https://localhost:8080/",
          "height": 208
        },
        "id": "9c597f9a",
        "outputId": "ac3073b2-3d84-403e-8a16-4b535dc313a4"
      },
      "outputs": [
        {
          "output_type": "stream",
          "name": "stdout",
          "text": [
            "Error getting code deps for <function Evaluation.summarize at 0x7d64b80e18a0>: unterminated string literal (detected at line 185) (<unknown>, line 185)\n",
            "🍩 https://wandb.ai/gizem-18srsnlr-martur-fompak/weave-intro-notebook/r/call/01958f41-8fa6-7a92-8ee6-7016ea95f5f5\n"
          ]
        },
        {
          "output_type": "display_data",
          "data": {
            "text/plain": [
              "Evaluated \u001b[1;36m1\u001b[0m of \u001b[1;36m3\u001b[0m examples\n"
            ],
            "text/html": [
              "<pre style=\"white-space:pre;overflow-x:auto;line-height:normal;font-family:Menlo,'DejaVu Sans Mono',consolas,'Courier New',monospace\">Evaluated <span style=\"color: #008080; text-decoration-color: #008080; font-weight: bold\">1</span> of <span style=\"color: #008080; text-decoration-color: #008080; font-weight: bold\">3</span> examples\n",
              "</pre>\n"
            ]
          },
          "metadata": {}
        },
        {
          "output_type": "display_data",
          "data": {
            "text/plain": [
              "Evaluated \u001b[1;36m2\u001b[0m of \u001b[1;36m3\u001b[0m examples\n"
            ],
            "text/html": [
              "<pre style=\"white-space:pre;overflow-x:auto;line-height:normal;font-family:Menlo,'DejaVu Sans Mono',consolas,'Courier New',monospace\">Evaluated <span style=\"color: #008080; text-decoration-color: #008080; font-weight: bold\">2</span> of <span style=\"color: #008080; text-decoration-color: #008080; font-weight: bold\">3</span> examples\n",
              "</pre>\n"
            ]
          },
          "metadata": {}
        },
        {
          "output_type": "display_data",
          "data": {
            "text/plain": [
              "Evaluated \u001b[1;36m3\u001b[0m of \u001b[1;36m3\u001b[0m examples\n"
            ],
            "text/html": [
              "<pre style=\"white-space:pre;overflow-x:auto;line-height:normal;font-family:Menlo,'DejaVu Sans Mono',consolas,'Courier New',monospace\">Evaluated <span style=\"color: #008080; text-decoration-color: #008080; font-weight: bold\">3</span> of <span style=\"color: #008080; text-decoration-color: #008080; font-weight: bold\">3</span> examples\n",
              "</pre>\n"
            ]
          },
          "metadata": {}
        },
        {
          "output_type": "display_data",
          "data": {
            "text/plain": [
              "Evaluation summary\n",
              "\u001b[1m{\u001b[0m\n",
              "    \u001b[32m'exact_match'\u001b[0m: \u001b[1m{\u001b[0m\u001b[32m'match'\u001b[0m: \u001b[1m{\u001b[0m\u001b[32m'true_count'\u001b[0m: \u001b[1;36m1\u001b[0m, \u001b[32m'true_fraction'\u001b[0m: \u001b[1;36m0.3333333333333333\u001b[0m\u001b[1m}\u001b[0m\u001b[1m}\u001b[0m,\n",
              "    \u001b[32m'model_latency'\u001b[0m: \u001b[1m{\u001b[0m\u001b[32m'mean'\u001b[0m: \u001b[1;36m0.7157031695048014\u001b[0m\u001b[1m}\u001b[0m\n",
              "\u001b[1m}\u001b[0m\n"
            ],
            "text/html": [
              "<pre style=\"white-space:pre;overflow-x:auto;line-height:normal;font-family:Menlo,'DejaVu Sans Mono',consolas,'Courier New',monospace\">Evaluation summary\n",
              "<span style=\"font-weight: bold\">{</span>\n",
              "    <span style=\"color: #008000; text-decoration-color: #008000\">'exact_match'</span>: <span style=\"font-weight: bold\">{</span><span style=\"color: #008000; text-decoration-color: #008000\">'match'</span>: <span style=\"font-weight: bold\">{</span><span style=\"color: #008000; text-decoration-color: #008000\">'true_count'</span>: <span style=\"color: #008080; text-decoration-color: #008080; font-weight: bold\">1</span>, <span style=\"color: #008000; text-decoration-color: #008000\">'true_fraction'</span>: <span style=\"color: #008080; text-decoration-color: #008080; font-weight: bold\">0.3333333333333333</span><span style=\"font-weight: bold\">}}</span>,\n",
              "    <span style=\"color: #008000; text-decoration-color: #008000\">'model_latency'</span>: <span style=\"font-weight: bold\">{</span><span style=\"color: #008000; text-decoration-color: #008000\">'mean'</span>: <span style=\"color: #008080; text-decoration-color: #008080; font-weight: bold\">0.7157031695048014</span><span style=\"font-weight: bold\">}</span>\n",
              "<span style=\"font-weight: bold\">}</span>\n",
              "</pre>\n"
            ]
          },
          "metadata": {}
        }
      ],
      "source": [
        "import weave\n",
        "from weave import Evaluation\n",
        "\n",
        "\n",
        "# Define any custom scoring function\n",
        "@weave.op()\n",
        "def exact_match(expected: str, output: dict) -> dict:\n",
        "    # Here is where you'd define the logic to score the model output\n",
        "    return {\"match\": expected == output}\n",
        "\n",
        "\n",
        "# Score your examples using scoring functions\n",
        "evaluation = Evaluation(\n",
        "    dataset=dataset,  # can be a list of dictionaries or a weave.Dataset object\n",
        "    scorers=[exact_match],  # can be a list of scoring functions\n",
        ")\n",
        "\n",
        "# Start tracking the evaluation\n",
        "weave.init(PROJECT)\n",
        "# Run the evaluation\n",
        "summary = await evaluation.evaluate(corrector)  # can be a model or simple function"
      ]
    },
    {
      "cell_type": "markdown",
      "id": "d997d9e6",
      "metadata": {
        "id": "d997d9e6"
      },
      "source": [
        "## What's next?\n",
        "\n",
        "Follow the [Build an Evaluation pipeline](http://wandb.me/weave_eval_tut) tutorial to learn more about Evaluation and begin iteratively improving your applications."
      ]
    }
  ],
  "metadata": {
    "kernelspec": {
      "display_name": "Python 3",
      "name": "python3"
    },
    "language_info": {
      "codemirror_mode": {
        "name": "ipython",
        "version": 3
      },
      "file_extension": ".py",
      "mimetype": "text/x-python",
      "name": "python",
      "nbconvert_exporter": "python",
      "pygments_lexer": "ipython3",
      "version": "3.10.8"
    },
    "colab": {
      "provenance": [],
      "gpuType": "T4"
    },
    "accelerator": "GPU"
  },
  "nbformat": 4,
  "nbformat_minor": 5
}